{
 "cells": [
  {
   "cell_type": "code",
   "execution_count": 3,
   "metadata": {},
   "outputs": [
    {
     "name": "stdout",
     "output_type": "stream",
     "text": [
      "5, 6\n"
     ]
    }
   ],
   "source": [
    "#Exercise 3.1\n",
    "a=5\n",
    "b=6\n",
    "print(str(a)+', '+str(b))"
   ]
  },
  {
   "cell_type": "code",
   "execution_count": 5,
   "metadata": {},
   "outputs": [
    {
     "name": "stdout",
     "output_type": "stream",
     "text": [
      "Hello Oscar\n"
     ]
    }
   ],
   "source": [
    "#Exercise 3.2 & 3.3\n",
    "greeting='Hello'\n",
    "person='Oscar'\n",
    "personal_greeting=greeting+' '+person\n",
    "print(personal_greeting)"
   ]
  },
  {
   "cell_type": "code",
   "execution_count": 6,
   "metadata": {},
   "outputs": [
    {
     "name": "stdout",
     "output_type": "stream",
     "text": [
      "Please enter your age:\n",
      "13\n",
      "Your age is less than 35.\n"
     ]
    }
   ],
   "source": [
    "#Exercise 3.4, 3.5, 3.6, & 3.7\n",
    "print('Please enter your age:')\n",
    "age=int(input())\n",
    "if age>35:\n",
    "    print('Your age is greater than 35.')\n",
    "elif age==35:\n",
    "    print('You are 35 years old.')\n",
    "else: \n",
    "    print('Your age is less than 35.')"
   ]
  },
  {
   "cell_type": "code",
   "execution_count": 7,
   "metadata": {},
   "outputs": [
    {
     "name": "stdout",
     "output_type": "stream",
     "text": [
      "2.5\n",
      "2\n",
      "2\n"
     ]
    }
   ],
   "source": [
    "#Exercise 3.8\n",
    "x=10\n",
    "print(x/4)\n",
    "print(x//4)\n",
    "print(x%4)"
   ]
  },
  {
   "cell_type": "code",
   "execution_count": 8,
   "metadata": {},
   "outputs": [
    {
     "name": "stdout",
     "output_type": "stream",
     "text": [
      "25.3375\n",
      "25.0\n",
      "1.3499999999999943\n"
     ]
    }
   ],
   "source": [
    "#Exercise 3.9\n",
    "x=101.35\n",
    "print(x/4)\n",
    "print(x//4)\n",
    "print(x%4)"
   ]
  },
  {
   "cell_type": "code",
   "execution_count": 11,
   "metadata": {},
   "outputs": [
    {
     "name": "stdout",
     "output_type": "stream",
     "text": [
      "True\n",
      "True\n",
      "True\n"
     ]
    }
   ],
   "source": [
    "#Exercise 3.10\n",
    "my_age=21\n",
    "your_age=25\n",
    "my_age==your_age\n",
    "result=False\n",
    "print(result)\n",
    "his_age=25\n",
    "your_age==his_age\n",
    "result=True\n",
    "print(result)"
   ]
  },
  {
   "cell_type": "code",
   "execution_count": null,
   "metadata": {},
   "outputs": [],
   "source": []
  }
 ],
 "metadata": {
  "kernelspec": {
   "display_name": "Python 3",
   "language": "python",
   "name": "python3"
  },
  "language_info": {
   "codemirror_mode": {
    "name": "ipython",
    "version": 3
   },
   "file_extension": ".py",
   "mimetype": "text/x-python",
   "name": "python",
   "nbconvert_exporter": "python",
   "pygments_lexer": "ipython3",
   "version": "3.6.5"
  }
 },
 "nbformat": 4,
 "nbformat_minor": 2
}
