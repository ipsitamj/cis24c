{
 "cells": [
  {
   "cell_type": "code",
   "execution_count": 1,
   "metadata": {},
   "outputs": [
    {
     "name": "stdout",
     "output_type": "stream",
     "text": [
      "Enter a number:\n",
      "123\n",
      "The number is greater than 100.\n"
     ]
    }
   ],
   "source": [
    "#Exercise 1\n",
    "print('Enter a number:')\n",
    "number=int(input())\n",
    "if number>100:\n",
    "    print('The number is greater than 100.')"
   ]
  },
  {
   "cell_type": "code",
   "execution_count": 2,
   "metadata": {},
   "outputs": [
    {
     "name": "stdout",
     "output_type": "stream",
     "text": [
      "Enter user's name:\n",
      "Ipsita\n",
      "User Joe was not entered, Ipsita was entered.\n"
     ]
    }
   ],
   "source": [
    "#Exercise 2\n",
    "print('Enter user\\'s name:')\n",
    "user_name=input()\n",
    "if user_name=='Joe':\n",
    "    print('User Joe was entered.')\n",
    "else:\n",
    "    print('User Joe was not entered, '+user_name+' was entered.')"
   ]
  },
  {
   "cell_type": "code",
   "execution_count": 2,
   "metadata": {},
   "outputs": [
    {
     "name": "stdout",
     "output_type": "stream",
     "text": [
      "What is the user's salary?\n",
      "130000\n",
      "The salary is greater than 100,000\n"
     ]
    }
   ],
   "source": [
    "#Exercise 3\n",
    "print('What is the user\\'s salary?')\n",
    "salary=int(input())\n",
    "if salary<70000:\n",
    "    print('The salary is less than 70,000')\n",
    "elif salary<100000:\n",
    "    print('The salary is less than 100,000')\n",
    "else:\n",
    "    print('The salary is greater than 100,000')"
   ]
  },
  {
   "cell_type": "code",
   "execution_count": 2,
   "metadata": {},
   "outputs": [
    {
     "name": "stdout",
     "output_type": "stream",
     "text": [
      "Enter a number:\n",
      "13\n",
      "Sum of all numbers from 1 to the number you entered is 91\n"
     ]
    }
   ],
   "source": [
    "#Exercise 4\n",
    "print('Enter a number:')\n",
    "number=int(input())\n",
    "i=1\n",
    "sum=0\n",
    "for i in range(number):\n",
    "    i=i+1\n",
    "    sum=sum+i\n",
    "print('Sum of all numbers from 1 to the number you entered is '+str(sum))"
   ]
  },
  {
   "cell_type": "code",
   "execution_count": 1,
   "metadata": {},
   "outputs": [
    {
     "name": "stdout",
     "output_type": "stream",
     "text": [
      "Guess my number:\n",
      "1\n",
      "Guess again!\n",
      "2\n",
      "Guess again!\n",
      "3\n",
      "Guess again!\n",
      "4\n",
      "Guess again!\n",
      "5\n",
      "Guess again!\n",
      "6\n",
      "Guess again!\n",
      "7\n",
      "Guess again!\n",
      "8\n",
      "You guessed my number!\n"
     ]
    }
   ],
   "source": [
    "#Exercise 5\n",
    "my_number=8\n",
    "print('Guess my number:')\n",
    "user_number=int(input())\n",
    "while user_number!=my_number:\n",
    "    print('Guess again!')\n",
    "    user_number=int(input())\n",
    "if user_number==my_number:\n",
    "    print('You guessed my number!')"
   ]
  },
  {
   "cell_type": "code",
   "execution_count": 6,
   "metadata": {},
   "outputs": [
    {
     "name": "stdout",
     "output_type": "stream",
     "text": [
      "Enter a temperature in Celsius:\n",
      "13\n",
      "55.4\n"
     ]
    }
   ],
   "source": [
    "#Exercise 6\n",
    "print('Enter a temperature in Celsius:')\n",
    "c=int(input())\n",
    "f=c*9/5+32\n",
    "print(f)"
   ]
  },
  {
   "cell_type": "code",
   "execution_count": 8,
   "metadata": {},
   "outputs": [
    {
     "name": "stdout",
     "output_type": "stream",
     "text": [
      "0\n",
      "2\n",
      "3\n",
      "4\n",
      "6\n",
      "7\n",
      "8\n",
      "9\n",
      "10\n"
     ]
    }
   ],
   "source": [
    "#Exercise 7\n",
    "i=0\n",
    "for i in range(11):\n",
    "    if i!=1 and i!=5:\n",
    "        print(i)\n",
    "        i=i+1"
   ]
  },
  {
   "cell_type": "code",
   "execution_count": 1,
   "metadata": {},
   "outputs": [
    {
     "name": "stdout",
     "output_type": "stream",
     "text": [
      "Enter a number:\n",
      "5\n",
      "Enter a number:\n",
      "4\n",
      "Enter a number:\n",
      "3\n",
      "Enter a number:\n",
      "2\n",
      "Enter a number:\n",
      "1\n",
      "Enter a number:\n",
      "0\n"
     ]
    }
   ],
   "source": [
    "#Exercise 9\n",
    "print('Enter a number:')\n",
    "number=int(input())\n",
    "while number!=0:\n",
    "    print('Enter a number:')\n",
    "    number=int(input())\n",
    "    if number==0:\n",
    "        break"
   ]
  }
 ],
 "metadata": {
  "kernelspec": {
   "display_name": "Python 3",
   "language": "python",
   "name": "python3"
  },
  "language_info": {
   "codemirror_mode": {
    "name": "ipython",
    "version": 3
   },
   "file_extension": ".py",
   "mimetype": "text/x-python",
   "name": "python",
   "nbconvert_exporter": "python",
   "pygments_lexer": "ipython3",
   "version": "3.6.5"
  }
 },
 "nbformat": 4,
 "nbformat_minor": 2
}
