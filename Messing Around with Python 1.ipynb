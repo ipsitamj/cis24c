{
 "cells": [
  {
   "cell_type": "code",
   "execution_count": 11,
   "metadata": {
    "collapsed": false
   },
   "outputs": [
    {
     "name": "stdout",
     "output_type": "stream",
     "text": [
      "What is your name?\n",
      "Ipsita\n",
      "Hello, Ipsita\n"
     ]
    }
   ],
   "source": [
    "print('What is your name?')\n",
    "name=str(input())\n",
    "print('Hello, '+name)\n"
   ]
  },
  {
   "cell_type": "code",
   "execution_count": 2,
   "metadata": {
    "collapsed": false
   },
   "outputs": [
    {
     "name": "stdout",
     "output_type": "stream",
     "text": [
      "Enter a number:\n",
      "30\n",
      "Enter a different number:\n",
      "24\n",
      "The sum of the two numbers you entered is 54\n"
     ]
    }
   ],
   "source": [
    "print('Enter a number:')\n",
    "num1=int(input())\n",
    "print('Enter a different number:')\n",
    "num2=int(input())\n",
    "sum=num1+num2\n",
    "print('The sum of the two numbers you entered is '+str(sum))\n"
   ]
  },
  {
   "cell_type": "code",
   "execution_count": 3,
   "metadata": {
    "collapsed": false
   },
   "outputs": [
    {
     "ename": "SyntaxError",
     "evalue": "invalid syntax (<ipython-input-3-deb563ad9b6d>, line 5)",
     "output_type": "error",
     "traceback": [
      "\u001b[0;36m  File \u001b[0;32m\"<ipython-input-3-deb563ad9b6d>\"\u001b[0;36m, line \u001b[0;32m5\u001b[0m\n\u001b[0;31m    elif number%2!=0:\u001b[0m\n\u001b[0m       ^\u001b[0m\n\u001b[0;31mSyntaxError\u001b[0m\u001b[0;31m:\u001b[0m invalid syntax\n"
     ]
    }
   ],
   "source": [
    "print('Enter a number:')\n",
    "number=int(input())\n",
    "if number%2==0:\n",
    "    print(str(number)+' is an even number.'\n",
    "elif number%2!=0:\n",
    "    print(str(number)+' is an odd number.'\n"
   ]
  },
  {
   "cell_type": "code",
   "execution_count": null,
   "metadata": {
    "collapsed": false
   },
   "outputs": [],
   "source": [
    "print('Enter a number:')\n",
    "number=int(input())\n",
    "if number%2==0:\n",
    "    print(str(number)+' is an even number.')\n",
    "elif number%2!=0:\n",
    "    print(str(number)+' is an odd number.')\n",
    "\n",
    "\n",
    "\n",
    "\n",
    "\n",
    "    \n"
   ]
  },
  {
   "cell_type": "code",
   "execution_count": null,
   "metadata": {
    "collapsed": false
   },
   "outputs": [],
   "source": [
    "number=25\n",
    "while number>=13:\n",
    "    print(number)\n",
    "    number=number-1\n"
   ]
  }
 ],
 "metadata": {
  "kernelspec": {
   "display_name": "Python 3",
   "language": "python",
   "name": "python3"
  },
  "language_info": {
   "codemirror_mode": {
    "name": "ipython",
    "version": 3
   },
   "file_extension": ".py",
   "mimetype": "text/x-python",
   "name": "python",
   "nbconvert_exporter": "python",
   "pygments_lexer": "ipython3",
   "version": "3.6.0"
  }
 },
 "nbformat": 4,
 "nbformat_minor": 2
}
